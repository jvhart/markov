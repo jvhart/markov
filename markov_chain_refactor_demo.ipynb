{
 "cells": [
  {
   "cell_type": "code",
   "execution_count": 1,
   "metadata": {},
   "outputs": [],
   "source": [
    "\n",
    "from markov import MarkovChain,MarkovChainState,MarkovChainEdge\n",
    "import numpy as np\n"
   ]
  },
  {
   "cell_type": "code",
   "execution_count": 2,
   "metadata": {},
   "outputs": [],
   "source": [
    "\n",
    "def make_random_walk(num_states,p=.5):\n",
    "    rows = [0,num_states-1]\n",
    "    cols = [0,num_states-1]\n",
    "    vals = [1,1]\n",
    "    for i in range(1,num_states-1):\n",
    "        rows += [i,i]\n",
    "        cols += [i-1,i+1]\n",
    "        vals += [1-p,p]\n",
    "    return rows,cols,vals\n",
    "    \n",
    "\n"
   ]
  },
  {
   "cell_type": "code",
   "execution_count": 3,
   "metadata": {},
   "outputs": [],
   "source": [
    "rows,cols,vals = make_random_walk(num_states=25,p=.5)\n",
    "\n",
    "RW = MarkovChain()\n",
    "RW.from_rcv(rows,cols,vals)\n"
   ]
  },
  {
   "cell_type": "code",
   "execution_count": 4,
   "metadata": {},
   "outputs": [
    {
     "name": "stdout",
     "output_type": "stream",
     "text": [
      "True\n",
      "\n",
      "class type          states\n",
      "Transient           [1, 2, 3, 4, 5, 6, 7, 8, 9, 10, 11, 12, 13, 14, 15, 16, 17, 18, 19, 20, 21, 22, 23]\n",
      "Absorbing           [0]\n",
      "Absorbing           [24]\n"
     ]
    }
   ],
   "source": [
    "\n",
    "print(RW.transition_matrix_is_valid)\n",
    "RW.get_communication_classes()\n",
    "\n",
    "print()\n",
    "print(f'class type          states')\n",
    "for cls,tp in zip(RW.classes,RW.types):\n",
    "    print(f'{tp:20}{cls}')\n"
   ]
  },
  {
   "cell_type": "code",
   "execution_count": 5,
   "metadata": {},
   "outputs": [
    {
     "data": {
      "text/plain": [
       "array([0.5, 0. , 0. , 0. , 0. , 0. , 0. , 0. , 0. , 0. , 0. , 0. , 0. ,\n",
       "       0. , 0. , 0. , 0. , 0. , 0. , 0. , 0. , 0. , 0. , 0. , 0.5])"
      ]
     },
     "execution_count": 5,
     "metadata": {},
     "output_type": "execute_result"
    }
   ],
   "source": [
    "RW.get_stationary_vector()\n",
    "RW.stationary_vector"
   ]
  },
  {
   "cell_type": "code",
   "execution_count": 6,
   "metadata": {},
   "outputs": [
    {
     "data": {
      "text/plain": [
       "array([[0.2 , 0.8 , 0.  , 0.  , 0.  , 0.  , 0.  , 0.  , 0.  , 0.  ],\n",
       "       [0.5 , 0.5 , 0.  , 0.  , 0.  , 0.  , 0.  , 0.  , 0.  , 0.  ],\n",
       "       [0.25, 0.25, 0.  , 0.5 , 0.  , 0.  , 0.  , 0.  , 0.  , 0.  ],\n",
       "       [0.  , 0.  , 0.5 , 0.  , 0.  , 0.5 , 0.  , 0.  , 0.  , 0.  ],\n",
       "       [0.  , 0.  , 0.  , 0.  , 1.  , 0.  , 0.  , 0.  , 0.  , 0.  ],\n",
       "       [0.  , 0.  , 0.  , 0.  , 0.  , 0.5 , 0.3 , 0.2 , 0.  , 0.  ],\n",
       "       [0.  , 0.  , 0.  , 0.  , 0.25, 0.25, 0.  , 0.  , 0.  , 0.5 ],\n",
       "       [0.  , 0.  , 0.  , 0.  , 0.  , 0.  , 0.  , 0.1 , 0.8 , 0.1 ],\n",
       "       [0.  , 0.  , 0.  , 0.  , 0.  , 0.  , 0.  , 0.4 , 0.2 , 0.4 ],\n",
       "       [0.  , 0.  , 0.  , 0.  , 0.  , 0.  , 0.  , 0.4 , 0.4 , 0.2 ]])"
      ]
     },
     "execution_count": 6,
     "metadata": {},
     "output_type": "execute_result"
    }
   ],
   "source": [
    "A = np.array([[.2, .8, 0, 0,0,0,0,0,0,0],\n",
    "              [.5, .5, 0, 0,0,0,0,0,0,0],\n",
    "              [.25,.25,0,.5,0,0,0,0,0,0],\n",
    "              [0,0,.5,0,0,.5,0,0,0,0],\n",
    "              [0,0,0,0,1,0,0,0,0,0],\n",
    "              [0,0,0,0,0,.5,.3,.2,0,0],\n",
    "              [0,0,0,0,.25,.25,0,0,0,.5],\n",
    "              [0,0,0,0,0,0,0,.1,.8,.1],\n",
    "              [0,0,0,0,0,0,0,.4,.2,.4],\n",
    "              [0,0,0,0,0,0,0,.4,.4,.2]])\n",
    "MC = MarkovChain()\n",
    "MC.from_nparray(A)\n",
    "MC.get_transition_matrix(format='np')"
   ]
  },
  {
   "cell_type": "code",
   "execution_count": 7,
   "metadata": {},
   "outputs": [
    {
     "data": {
      "text/plain": [
       "<10x10 sparse matrix of type '<class 'numpy.float64'>'\n",
       "\twith 25 stored elements in Compressed Sparse Row format>"
      ]
     },
     "execution_count": 7,
     "metadata": {},
     "output_type": "execute_result"
    }
   ],
   "source": [
    "MC.get_transition_matrix()"
   ]
  },
  {
   "cell_type": "code",
   "execution_count": 8,
   "metadata": {},
   "outputs": [
    {
     "name": "stdout",
     "output_type": "stream",
     "text": [
      "\n",
      "Expected number of times to visit state j starting from state i:\n",
      "[[2.35294118 0.70588235 0.         0.        ]\n",
      " [0.58823529 1.17647059 0.         0.        ]\n",
      " [0.         0.         1.33333333 0.66666667]\n",
      " [0.         0.         0.66666667 1.33333333]]\n",
      "\n",
      "Probability of being absorbed into state j starting from state i:\n",
      "[[0.         0.         0.47058824 0.         0.35294118 0.17647059]\n",
      " [0.         0.         0.11764706 0.         0.58823529 0.29411765]\n",
      " [0.33333333 0.33333333 0.         0.         0.         0.        ]\n",
      " [0.16666667 0.16666667 0.         0.         0.         0.        ]]\n",
      "\n",
      "Expected time to absorption, starting from state i:\n",
      "[[3.05882353]\n",
      " [1.76470588]\n",
      " [2.        ]\n",
      " [2.        ]]\n"
     ]
    }
   ],
   "source": [
    "\n",
    "# RW.analyze()\n",
    "\n",
    "MC.get_transition_matrix_decomposition()\n",
    "MC.get_canonical_transition_matrix()\n",
    "MC.get_expected_visits_matrix()\n",
    "MC.get_absorption_probability_matrix()\n",
    "MC.get_expected_time_to_absorption_matrix()\n",
    "\n",
    "print()\n",
    "print('Expected number of times to visit state j starting from state i:')\n",
    "print(MC.N.todense()) # Expected number of times to visit state j starting from state i\n",
    "\n",
    "print()\n",
    "print('Probability of being absorbed into state j starting from state i:')\n",
    "print(MC.B.todense()) # Probability of being absorbed into state j starting from state i\n",
    "\n",
    "print()\n",
    "print('Expected time to absorption, starting from state i:')\n",
    "print(MC.T.todense()) # Expected time to absorption, starting from state i\n",
    "\n",
    "x = MC.simulate(n=200,initial=8) # Simulate the Markov chain for 200 time steps\n",
    "                                 # with initial state 8."
   ]
  },
  {
   "cell_type": "code",
   "execution_count": 9,
   "metadata": {},
   "outputs": [
    {
     "data": {
      "text/plain": [
       "matrix([[0.5 , 0.3 , 0.  , 0.  , 0.  , 0.  , 0.2 , 0.  , 0.  , 0.  ],\n",
       "        [0.25, 0.  , 0.  , 0.  , 0.  , 0.  , 0.  , 0.  , 0.5 , 0.25],\n",
       "        [0.  , 0.  , 0.  , 0.5 , 0.25, 0.25, 0.  , 0.  , 0.  , 0.  ],\n",
       "        [0.  , 0.  , 0.5 , 0.  , 0.  , 0.  , 0.  , 0.  , 0.  , 0.  ],\n",
       "        [0.  , 0.  , 0.  , 0.  , 0.2 , 0.8 , 0.  , 0.  , 0.  , 0.  ],\n",
       "        [0.  , 0.  , 0.  , 0.  , 0.5 , 0.5 , 0.  , 0.  , 0.  , 0.  ],\n",
       "        [0.  , 0.  , 0.  , 0.  , 0.  , 0.  , 0.1 , 0.8 , 0.1 , 0.  ],\n",
       "        [0.  , 0.  , 0.  , 0.  , 0.  , 0.  , 0.4 , 0.2 , 0.4 , 0.  ],\n",
       "        [0.  , 0.  , 0.  , 0.  , 0.  , 0.  , 0.4 , 0.4 , 0.2 , 0.  ],\n",
       "        [0.  , 0.  , 0.  , 0.  , 0.  , 0.  , 0.  , 0.  , 0.  , 1.  ]])"
      ]
     },
     "execution_count": 9,
     "metadata": {},
     "output_type": "execute_result"
    }
   ],
   "source": [
    "MC.canonical_transition_matrix.todense()"
   ]
  },
  {
   "cell_type": "code",
   "execution_count": null,
   "metadata": {},
   "outputs": [],
   "source": []
  },
  {
   "cell_type": "code",
   "execution_count": 10,
   "metadata": {},
   "outputs": [
    {
     "name": "stdout",
     "output_type": "stream",
     "text": [
      "True\n",
      "\n",
      "class type          states\n",
      "Transient           [5, 6]\n",
      "Transient           [2, 3]\n",
      "Absorbing           [0, 1]\n",
      "Absorbing           [7, 8, 9]\n",
      "Absorbing           [4]\n"
     ]
    }
   ],
   "source": [
    "\n",
    "print(MC.transition_matrix_is_valid)\n",
    "MC.get_communication_classes()\n",
    "\n",
    "print()\n",
    "print(f'class type          states')\n",
    "for cls,tp in zip(MC.classes,MC.types):\n",
    "    print(f'{tp:20}{cls}')"
   ]
  },
  {
   "cell_type": "code",
   "execution_count": 11,
   "metadata": {},
   "outputs": [
    {
     "data": {
      "text/plain": [
       "False"
      ]
     },
     "execution_count": 11,
     "metadata": {},
     "output_type": "execute_result"
    }
   ],
   "source": [
    "MC.is_ergodic"
   ]
  },
  {
   "cell_type": "code",
   "execution_count": 12,
   "metadata": {},
   "outputs": [
    {
     "data": {
      "text/plain": [
       "array([0.12820513, 0.20512821, 0.        , 0.        , 0.33333333,\n",
       "       0.        , 0.        , 0.1025641 , 0.14529915, 0.08547009])"
      ]
     },
     "execution_count": 12,
     "metadata": {},
     "output_type": "execute_result"
    }
   ],
   "source": [
    "# MC.get_transition_matrix(format='np')\n",
    "# MC.transition_matrix_is_valid\n",
    "\n",
    "MC.get_stationary_vector()\n",
    "MC.stationary_vector"
   ]
  },
  {
   "cell_type": "code",
   "execution_count": null,
   "metadata": {},
   "outputs": [],
   "source": []
  }
 ],
 "metadata": {
  "kernelspec": {
   "display_name": "Python 3",
   "language": "python",
   "name": "python3"
  },
  "language_info": {
   "codemirror_mode": {
    "name": "ipython",
    "version": 3
   },
   "file_extension": ".py",
   "mimetype": "text/x-python",
   "name": "python",
   "nbconvert_exporter": "python",
   "pygments_lexer": "ipython3",
   "version": "3.7.4"
  }
 },
 "nbformat": 4,
 "nbformat_minor": 2
}
